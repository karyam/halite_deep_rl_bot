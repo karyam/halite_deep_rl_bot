{
 "metadata": {
  "language_info": {
   "codemirror_mode": {
    "name": "ipython",
    "version": 3
   },
   "file_extension": ".py",
   "mimetype": "text/x-python",
   "name": "python",
   "nbconvert_exporter": "python",
   "pygments_lexer": "ipython3",
   "version": "3.8.3-final"
  },
  "orig_nbformat": 2,
  "kernelspec": {
   "name": "Python 3.8.3 64-bit ('venv': venv)",
   "display_name": "Python 3.8.3 64-bit ('venv': venv)",
   "metadata": {
    "interpreter": {
     "hash": "c7d4d67c85e63f2000b4d1a5dc12357e22d8f3135480350a825e3e94da1fd272"
    }
   }
  }
 },
 "nbformat": 4,
 "nbformat_minor": 2,
 "cells": [
  {
   "cell_type": "code",
   "execution_count": 3,
   "metadata": {},
   "outputs": [],
   "source": [
    "from kaggle_environments import get_episode_replay, list_episodes, list_episodes_for_team, list_episodes_for_submission\n",
    "import os\n",
    "import requests\n",
    "import json\n",
    "import pandas as pd\n",
    "import time\n",
    "import shutil\n",
    "import numpy as np"
   ]
  },
  {
   "cell_type": "code",
   "execution_count": 3,
   "metadata": {},
   "outputs": [],
   "source": [
    "# 1. Get the ids of teams and corresponding replays\n",
    "# 2. Save replay from top 5 teams at path.\n",
    "#TODO: Consider filtering the saved replays based on reward"
   ]
  },
  {
   "cell_type": "code",
   "execution_count": 4,
   "metadata": {},
   "outputs": [],
   "source": [
    "path = \"data/\"\n",
    "eval_path = \"data/eval/\"\n",
    "test_path = \"data/test/\"\n",
    "train_path = \"data/train/\"\n",
    "base_url = \"https://www.kaggle.com/requests/EpisodeService/\"\n",
    "get_url = base_url + \"GetEpisodeReplay\"\n",
    "list_url = base_url + \"ListEpisodes\""
   ]
  },
  {
   "cell_type": "code",
   "execution_count": 4,
   "metadata": {},
   "outputs": [],
   "source": [
    "r = requests.post(list_url, json = {\"teamId\":  4820508})\n",
    "r = r.json()"
   ]
  },
  {
   "cell_type": "code",
   "execution_count": 11,
   "metadata": {},
   "outputs": [
    {
     "output_type": "execute_result",
     "data": {
      "text/plain": "          id            teamName  competitionId  teamLeaderId  isBenchmark  \\\n628  5234835  convexOptimization          18011        672770        False   \n9    4714287    Tom Van de Wiele          18011        582611        False   \n157  5118779            mzotkiew          18011         80203        False   \n290  5133228            Robiland          18011       5330482        False   \n161  5119134            Fei Wang          18011        171088        False   \n\n     createdAfterDeadline  medal dateMedalAwarded  submissionCount  \\\n628                 False      0             None              166   \n9                   False      0             None                7   \n157                 False      0             None               29   \n290                 False      0             None               79   \n161                 False      0             None              184   \n\n                              lastSubmissionDate  \\\n628  {'seconds': 1599824450, 'nanos': 530000000}   \n9     {'seconds': 1599505053, 'nanos': 60000000}   \n157  {'seconds': 1599774490, 'nanos': 903333300}   \n290  {'seconds': 1599793515, 'nanos': 576666700}   \n161  {'seconds': 1599820416, 'nanos': 513333300}   \n\n     publicLeaderboardSubmissionId publicLeaderboardScore  \\\n628                     17050271.0                   None   \n9                       17114281.0                   None   \n157                     17041870.0                   None   \n290                     17092555.0                   None   \n161                     17047360.0                   None   \n\n     publicLeaderboardRank privateLeaderboardSubmissionId  \\\n628                    1.0                           None   \n9                      2.0                           None   \n157                    3.0                           None   \n290                    4.0                           None   \n161                    5.0                           None   \n\n    privateLeaderboardScore privateLeaderboardRank competition  \\\n628                    None                   None        None   \n9                      None                   None        None   \n157                    None                   None        None   \n290                    None                   None        None   \n161                    None                   None        None   \n\n                                           teamMembers inboundMergeRequests  \\\n628  [{'id': 672770, 'displayName': 'HyperSeedOptim...                   []   \n9    [{'id': 582611, 'displayName': 'Tom Van de Wie...                   []   \n157  [{'id': 80203, 'displayName': 'mzotkiew', 'ema...                   []   \n290  [{'id': 5330482, 'displayName': 'PS', 'email':...                   []   \n161  [{'id': 171088, 'displayName': 'Fei Wang', 'em...                   []   \n\n    outboundMergeRequests  \n628                    []  \n9                      []  \n157                    []  \n290                    []  \n161                    []  ",
      "text/html": "<div>\n<style scoped>\n    .dataframe tbody tr th:only-of-type {\n        vertical-align: middle;\n    }\n\n    .dataframe tbody tr th {\n        vertical-align: top;\n    }\n\n    .dataframe thead th {\n        text-align: right;\n    }\n</style>\n<table border=\"1\" class=\"dataframe\">\n  <thead>\n    <tr style=\"text-align: right;\">\n      <th></th>\n      <th>id</th>\n      <th>teamName</th>\n      <th>competitionId</th>\n      <th>teamLeaderId</th>\n      <th>isBenchmark</th>\n      <th>createdAfterDeadline</th>\n      <th>medal</th>\n      <th>dateMedalAwarded</th>\n      <th>submissionCount</th>\n      <th>lastSubmissionDate</th>\n      <th>publicLeaderboardSubmissionId</th>\n      <th>publicLeaderboardScore</th>\n      <th>publicLeaderboardRank</th>\n      <th>privateLeaderboardSubmissionId</th>\n      <th>privateLeaderboardScore</th>\n      <th>privateLeaderboardRank</th>\n      <th>competition</th>\n      <th>teamMembers</th>\n      <th>inboundMergeRequests</th>\n      <th>outboundMergeRequests</th>\n    </tr>\n  </thead>\n  <tbody>\n    <tr>\n      <th>628</th>\n      <td>5234835</td>\n      <td>convexOptimization</td>\n      <td>18011</td>\n      <td>672770</td>\n      <td>False</td>\n      <td>False</td>\n      <td>0</td>\n      <td>None</td>\n      <td>166</td>\n      <td>{'seconds': 1599824450, 'nanos': 530000000}</td>\n      <td>17050271.0</td>\n      <td>None</td>\n      <td>1.0</td>\n      <td>None</td>\n      <td>None</td>\n      <td>None</td>\n      <td>None</td>\n      <td>[{'id': 672770, 'displayName': 'HyperSeedOptim...</td>\n      <td>[]</td>\n      <td>[]</td>\n    </tr>\n    <tr>\n      <th>9</th>\n      <td>4714287</td>\n      <td>Tom Van de Wiele</td>\n      <td>18011</td>\n      <td>582611</td>\n      <td>False</td>\n      <td>False</td>\n      <td>0</td>\n      <td>None</td>\n      <td>7</td>\n      <td>{'seconds': 1599505053, 'nanos': 60000000}</td>\n      <td>17114281.0</td>\n      <td>None</td>\n      <td>2.0</td>\n      <td>None</td>\n      <td>None</td>\n      <td>None</td>\n      <td>None</td>\n      <td>[{'id': 582611, 'displayName': 'Tom Van de Wie...</td>\n      <td>[]</td>\n      <td>[]</td>\n    </tr>\n    <tr>\n      <th>157</th>\n      <td>5118779</td>\n      <td>mzotkiew</td>\n      <td>18011</td>\n      <td>80203</td>\n      <td>False</td>\n      <td>False</td>\n      <td>0</td>\n      <td>None</td>\n      <td>29</td>\n      <td>{'seconds': 1599774490, 'nanos': 903333300}</td>\n      <td>17041870.0</td>\n      <td>None</td>\n      <td>3.0</td>\n      <td>None</td>\n      <td>None</td>\n      <td>None</td>\n      <td>None</td>\n      <td>[{'id': 80203, 'displayName': 'mzotkiew', 'ema...</td>\n      <td>[]</td>\n      <td>[]</td>\n    </tr>\n    <tr>\n      <th>290</th>\n      <td>5133228</td>\n      <td>Robiland</td>\n      <td>18011</td>\n      <td>5330482</td>\n      <td>False</td>\n      <td>False</td>\n      <td>0</td>\n      <td>None</td>\n      <td>79</td>\n      <td>{'seconds': 1599793515, 'nanos': 576666700}</td>\n      <td>17092555.0</td>\n      <td>None</td>\n      <td>4.0</td>\n      <td>None</td>\n      <td>None</td>\n      <td>None</td>\n      <td>None</td>\n      <td>[{'id': 5330482, 'displayName': 'PS', 'email':...</td>\n      <td>[]</td>\n      <td>[]</td>\n    </tr>\n    <tr>\n      <th>161</th>\n      <td>5119134</td>\n      <td>Fei Wang</td>\n      <td>18011</td>\n      <td>171088</td>\n      <td>False</td>\n      <td>False</td>\n      <td>0</td>\n      <td>None</td>\n      <td>184</td>\n      <td>{'seconds': 1599820416, 'nanos': 513333300}</td>\n      <td>17047360.0</td>\n      <td>None</td>\n      <td>5.0</td>\n      <td>None</td>\n      <td>None</td>\n      <td>None</td>\n      <td>None</td>\n      <td>[{'id': 171088, 'displayName': 'Fei Wang', 'em...</td>\n      <td>[]</td>\n      <td>[]</td>\n    </tr>\n  </tbody>\n</table>\n</div>"
     },
     "metadata": {},
     "execution_count": 11
    }
   ],
   "source": [
    "teams_df = pd.DataFrame(r['result']['teams'])\n",
    "teams_df.sort_values('publicLeaderboardRank', inplace = True)\n",
    "teams_df.head()"
   ]
  },
  {
   "cell_type": "code",
   "execution_count": 3,
   "metadata": {},
   "outputs": [],
   "source": [
    "episodes = list_episodes_for_team(5234835)"
   ]
  },
  {
   "cell_type": "code",
   "execution_count": 43,
   "metadata": {
    "tags": []
   },
   "outputs": [
    {
     "output_type": "stream",
     "name": "stdout",
     "text": "<class 'dict'>\ndict_keys(['result', 'wasSuccessful'])\n"
    }
   ],
   "source": [
    "print(type(episodes))\n",
    "print(episodes.keys())"
   ]
  },
  {
   "cell_type": "code",
   "execution_count": 4,
   "metadata": {
    "tags": []
   },
   "outputs": [
    {
     "output_type": "execute_result",
     "data": {
      "text/plain": "77974"
     },
     "metadata": {},
     "execution_count": 4
    }
   ],
   "source": [
    "player1_episode_ids = [episodes[\"result\"][\"episodes\"][i][\"id\"] for i in range(len(episodes[\"result\"][\"episodes\"]))]\n",
    "len(player1_episode_ids)"
   ]
  },
  {
   "cell_type": "code",
   "execution_count": 5,
   "metadata": {},
   "outputs": [],
   "source": [
    "# get the agent ids for team: 5234835\n",
    "def get_agent_id_for_team(team_id, episodes):\n",
    "    agent_ids = {}\n",
    "    for episode in episodes[\"result\"][\"episodes\"]:\n",
    "        for agent in episode['agents']:\n",
    "            if agent['submission']['teamId'] == team_id:\n",
    "                #print(episode[\"id\"])\n",
    "                agent_ids[str(episode[\"id\"])] = agent[\"index\"]\n",
    "    \n",
    "    with open(path+'agent_ids_'+str(team_id)+'.txt', 'w') as outfile:\n",
    "        json.dump(agent_ids, outfile)\n",
    "    return agent_ids"
   ]
  },
  {
   "cell_type": "code",
   "execution_count": 6,
   "metadata": {},
   "outputs": [],
   "source": [
    "agent_ids = get_agent_id_for_team(5234835, episodes)"
   ]
  },
  {
   "cell_type": "code",
   "execution_count": 8,
   "metadata": {},
   "outputs": [],
   "source": [
    "episode_id = player1_episode_ids[0]\n",
    "data = get_episode_replay(episode_id)\n",
    "with open(path+'convexOptimization_'+str(episode_id)+'.txt', 'w') as outfile:\n",
    "    json.dump(data, outfile)"
   ]
  },
  {
   "cell_type": "code",
   "execution_count": null,
   "metadata": {},
   "outputs": [],
   "source": [
    "replay = get_episode_replay(1375512)"
   ]
  },
  {
   "cell_type": "code",
   "execution_count": 11,
   "metadata": {},
   "outputs": [],
   "source": [
    "for i in range(15260,15260+1000,60):\n",
    "    for j in range(i,i+60):\n",
    "        episode_id = player1_episode_ids[j]\n",
    "        replay = get_episode_replay(episode_id)\n",
    "        with open(path+'convexOptimization_'+str(episode_id)+'.txt', 'w') as outfile:\n",
    "            json.dump(replay, outfile)\n",
    "    time.sleep(60)"
   ]
  },
  {
   "cell_type": "code",
   "execution_count": 14,
   "metadata": {},
   "outputs": [
    {
     "output_type": "execute_result",
     "data": {
      "text/plain": "15596"
     },
     "metadata": {},
     "execution_count": 14
    }
   ],
   "source": [
    "files = os.listdir(path)\n",
    "len(files)"
   ]
  },
  {
   "cell_type": "code",
   "execution_count": 5,
   "metadata": {
    "tags": []
   },
   "outputs": [
    {
     "output_type": "stream",
     "name": "stdout",
     "text": "0\n"
    }
   ],
   "source": [
    "# delete unsuccessful replays\n",
    "num_deleted = 0\n",
    "for file in files:\n",
    "    replay_path = os.path.join(path, file)\n",
    "    if os.path.isdir(replay_path) == True: continue\n",
    "    with open(replay_path) as replay_file:\n",
    "        replay = json.load(replay_file)\n",
    "    if replay['wasSuccessful'] == False:\n",
    "        num_deleted+=1\n",
    "        os.remove(replay_path)\n",
    "print(num_deleted)"
   ]
  },
  {
   "cell_type": "code",
   "execution_count": 13,
   "metadata": {},
   "outputs": [],
   "source": [
    "eval_size = 3256\n",
    "test_size = 3256\n",
    "train_size = 9766"
   ]
  },
  {
   "cell_type": "code",
   "execution_count": 8,
   "metadata": {},
   "outputs": [],
   "source": [
    "files = os.listdir(path)\n",
    "while eval_size > 0:\n",
    "    file = files[np.random.randint(0,len(files))]\n",
    "    try:\n",
    "        if os.path.isdir(os.path.join(path, file)) == True: continue\n",
    "        shutil.move(os.path.join(path, file), os.path.join(eval_path, file))\n",
    "        eval_size -= 1\n",
    "    except: continue\n",
    "assert (len(os.listdir(eval_path)) == 3256)"
   ]
  },
  {
   "cell_type": "code",
   "execution_count": 11,
   "metadata": {},
   "outputs": [],
   "source": [
    "files = os.listdir(path)\n",
    "while test_size > 0:\n",
    "    file = files[np.random.randint(0,len(files))]\n",
    "    try:\n",
    "        if os.path.isdir(os.path.join(path, file)) == True: continue\n",
    "        shutil.move(os.path.join(path, file), os.path.join(test_path, file))\n",
    "        test_size -= 1\n",
    "    except: continue\n",
    "assert (len(os.listdir(test_path)) == 3256)"
   ]
  },
  {
   "cell_type": "code",
   "execution_count": 14,
   "metadata": {},
   "outputs": [],
   "source": [
    "files = os.listdir(path)\n",
    "while train_size > 0:\n",
    "    file = files[np.random.randint(0,len(files))]\n",
    "    try:\n",
    "        if os.path.isdir(os.path.join(path, file)) == True: continue\n",
    "        shutil.move(os.path.join(path, file), os.path.join(train_path, file))\n",
    "        train_size -= 1\n",
    "    except: continue\n",
    "assert (len(os.listdir(train_path)) == 9766)"
   ]
  }
 ]
}